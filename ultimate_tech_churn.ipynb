{
 "cells": [
  {
   "cell_type": "markdown",
   "id": "1f42ba67",
   "metadata": {},
   "source": [
    "# Part 3 ‐ Predictive modeling"
   ]
  },
  {
   "cell_type": "markdown",
   "id": "885fbf99",
   "metadata": {},
   "source": [
    "## Problem Statement"
   ]
  },
  {
   "cell_type": "markdown",
   "id": "ac2ca264",
   "metadata": {},
   "source": [
    "Ultimate is interested in predicting rider retention. To help explore this question, we have provided a sample dataset of a cohort of users who signed up for an Ultimate account in January 2014. The data was pulled several months later; we consider a user retained if they were “active” (i.e. took a trip) in the preceding 30 days. We would like you to use this data set to help understand what factors are the best predictors for retention, and offer suggestions to operationalize those insights to help Ultimate.\n",
    "The data is in the attached file ultimate_data_challenge.json. See below for a detailed description of the dataset. Please include any code you wrote for the analysis and delete the dataset when you have finished with the challenge.\n",
    "\n",
    "1. Perform any cleaning, exploratory analysis, and/or visualizations to use the provided data for this analysis (a few sentences/plots describing your approach will suffice). What fraction of the observed users were retained?\n",
    "2. Build a predictive model to help Ultimate determine whether or not a user will be active in their 6th month on the system. Discuss why you chose your approach, what alternatives you considered, and any concerns you have. How valid is your model? Include any key indicators of model performance.\n",
    "3. Briefly discuss how Ultimate might leverage the insights gained from the model to improve its long term rider retention (again, a few sentences will suffice).\n",
    "\n",
    "Data description\\\n",
    "● city: city this user signed up in\\\n",
    "● phone: primary device for this user\\\n",
    "● signup_date: date of account registration; in the form ‘YYYYMMDD’\\\n",
    "● last_trip_date: the last time this user completed a trip; in the form ‘YYYYMMDD’\\\n",
    "● avg_dist: the average distance in miles per trip taken in the first 30 days after signup\\\n",
    "● avg_rating_by_driver: the rider’s average rating over all of their trips\\\n",
    "● avg_rating_of_driver: the rider’s average rating of their drivers over all of their trips\\\n",
    "● surge_pct: the percent of trips taken with surge multiplier > 1\\\n",
    "● avg_surge: The average surge multiplier over all of this user’s trips\\\n",
    "● trips_in_first_30_days: the number of trips this user took in the first 30 days after signing up\\\n",
    "● ultimate_black_user: TRUE if the user took an Ultimate Black in their first 30 days; FALSE otherwise\\\n",
    "● weekday_pct: the percent of the user’s trips occurring during a weekday"
   ]
  },
  {
   "cell_type": "markdown",
   "id": "f236e1ff",
   "metadata": {},
   "source": [
    "## Solution"
   ]
  },
  {
   "cell_type": "code",
   "execution_count": 1,
   "id": "fe90e278",
   "metadata": {},
   "outputs": [],
   "source": [
    "import numpy as np\n",
    "import pandas as pd\n",
    "\n",
    "import matplotlib.pyplot as plt\n",
    "import seaborn as sns"
   ]
  },
  {
   "cell_type": "code",
   "execution_count": 2,
   "id": "b276b3ac",
   "metadata": {},
   "outputs": [],
   "source": [
    "random_seed = 33\n",
    "np.random.seed(random_seed)"
   ]
  },
  {
   "cell_type": "code",
   "execution_count": 3,
   "id": "7d176106",
   "metadata": {},
   "outputs": [
    {
     "data": {
      "text/html": [
       "<div>\n",
       "<style scoped>\n",
       "    .dataframe tbody tr th:only-of-type {\n",
       "        vertical-align: middle;\n",
       "    }\n",
       "\n",
       "    .dataframe tbody tr th {\n",
       "        vertical-align: top;\n",
       "    }\n",
       "\n",
       "    .dataframe thead th {\n",
       "        text-align: right;\n",
       "    }\n",
       "</style>\n",
       "<table border=\"1\" class=\"dataframe\">\n",
       "  <thead>\n",
       "    <tr style=\"text-align: right;\">\n",
       "      <th></th>\n",
       "      <th>city</th>\n",
       "      <th>trips_in_first_30_days</th>\n",
       "      <th>signup_date</th>\n",
       "      <th>avg_rating_of_driver</th>\n",
       "      <th>avg_surge</th>\n",
       "      <th>last_trip_date</th>\n",
       "      <th>phone</th>\n",
       "      <th>surge_pct</th>\n",
       "      <th>ultimate_black_user</th>\n",
       "      <th>weekday_pct</th>\n",
       "      <th>avg_dist</th>\n",
       "      <th>avg_rating_by_driver</th>\n",
       "    </tr>\n",
       "  </thead>\n",
       "  <tbody>\n",
       "    <tr>\n",
       "      <th>0</th>\n",
       "      <td>King's Landing</td>\n",
       "      <td>4</td>\n",
       "      <td>2014-01-25</td>\n",
       "      <td>4.7</td>\n",
       "      <td>1.10</td>\n",
       "      <td>2014-06-17</td>\n",
       "      <td>iPhone</td>\n",
       "      <td>15.4</td>\n",
       "      <td>True</td>\n",
       "      <td>46.2</td>\n",
       "      <td>3.67</td>\n",
       "      <td>5.0</td>\n",
       "    </tr>\n",
       "    <tr>\n",
       "      <th>1</th>\n",
       "      <td>Astapor</td>\n",
       "      <td>0</td>\n",
       "      <td>2014-01-29</td>\n",
       "      <td>5.0</td>\n",
       "      <td>1.00</td>\n",
       "      <td>2014-05-05</td>\n",
       "      <td>Android</td>\n",
       "      <td>0.0</td>\n",
       "      <td>False</td>\n",
       "      <td>50.0</td>\n",
       "      <td>8.26</td>\n",
       "      <td>5.0</td>\n",
       "    </tr>\n",
       "    <tr>\n",
       "      <th>2</th>\n",
       "      <td>Astapor</td>\n",
       "      <td>3</td>\n",
       "      <td>2014-01-06</td>\n",
       "      <td>4.3</td>\n",
       "      <td>1.00</td>\n",
       "      <td>2014-01-07</td>\n",
       "      <td>iPhone</td>\n",
       "      <td>0.0</td>\n",
       "      <td>False</td>\n",
       "      <td>100.0</td>\n",
       "      <td>0.77</td>\n",
       "      <td>5.0</td>\n",
       "    </tr>\n",
       "    <tr>\n",
       "      <th>3</th>\n",
       "      <td>King's Landing</td>\n",
       "      <td>9</td>\n",
       "      <td>2014-01-10</td>\n",
       "      <td>4.6</td>\n",
       "      <td>1.14</td>\n",
       "      <td>2014-06-29</td>\n",
       "      <td>iPhone</td>\n",
       "      <td>20.0</td>\n",
       "      <td>True</td>\n",
       "      <td>80.0</td>\n",
       "      <td>2.36</td>\n",
       "      <td>4.9</td>\n",
       "    </tr>\n",
       "    <tr>\n",
       "      <th>4</th>\n",
       "      <td>Winterfell</td>\n",
       "      <td>14</td>\n",
       "      <td>2014-01-27</td>\n",
       "      <td>4.4</td>\n",
       "      <td>1.19</td>\n",
       "      <td>2014-03-15</td>\n",
       "      <td>Android</td>\n",
       "      <td>11.8</td>\n",
       "      <td>False</td>\n",
       "      <td>82.4</td>\n",
       "      <td>3.13</td>\n",
       "      <td>4.9</td>\n",
       "    </tr>\n",
       "    <tr>\n",
       "      <th>...</th>\n",
       "      <td>...</td>\n",
       "      <td>...</td>\n",
       "      <td>...</td>\n",
       "      <td>...</td>\n",
       "      <td>...</td>\n",
       "      <td>...</td>\n",
       "      <td>...</td>\n",
       "      <td>...</td>\n",
       "      <td>...</td>\n",
       "      <td>...</td>\n",
       "      <td>...</td>\n",
       "      <td>...</td>\n",
       "    </tr>\n",
       "    <tr>\n",
       "      <th>49995</th>\n",
       "      <td>King's Landing</td>\n",
       "      <td>0</td>\n",
       "      <td>2014-01-25</td>\n",
       "      <td>5.0</td>\n",
       "      <td>1.00</td>\n",
       "      <td>2014-06-05</td>\n",
       "      <td>iPhone</td>\n",
       "      <td>0.0</td>\n",
       "      <td>False</td>\n",
       "      <td>100.0</td>\n",
       "      <td>5.63</td>\n",
       "      <td>4.2</td>\n",
       "    </tr>\n",
       "    <tr>\n",
       "      <th>49996</th>\n",
       "      <td>Astapor</td>\n",
       "      <td>1</td>\n",
       "      <td>2014-01-24</td>\n",
       "      <td>NaN</td>\n",
       "      <td>1.00</td>\n",
       "      <td>2014-01-25</td>\n",
       "      <td>iPhone</td>\n",
       "      <td>0.0</td>\n",
       "      <td>False</td>\n",
       "      <td>0.0</td>\n",
       "      <td>0.00</td>\n",
       "      <td>4.0</td>\n",
       "    </tr>\n",
       "    <tr>\n",
       "      <th>49997</th>\n",
       "      <td>Winterfell</td>\n",
       "      <td>0</td>\n",
       "      <td>2014-01-31</td>\n",
       "      <td>5.0</td>\n",
       "      <td>1.00</td>\n",
       "      <td>2014-05-22</td>\n",
       "      <td>Android</td>\n",
       "      <td>0.0</td>\n",
       "      <td>True</td>\n",
       "      <td>100.0</td>\n",
       "      <td>3.86</td>\n",
       "      <td>5.0</td>\n",
       "    </tr>\n",
       "    <tr>\n",
       "      <th>49998</th>\n",
       "      <td>Astapor</td>\n",
       "      <td>2</td>\n",
       "      <td>2014-01-14</td>\n",
       "      <td>3.0</td>\n",
       "      <td>1.00</td>\n",
       "      <td>2014-01-15</td>\n",
       "      <td>iPhone</td>\n",
       "      <td>0.0</td>\n",
       "      <td>False</td>\n",
       "      <td>100.0</td>\n",
       "      <td>4.58</td>\n",
       "      <td>3.5</td>\n",
       "    </tr>\n",
       "    <tr>\n",
       "      <th>49999</th>\n",
       "      <td>Astapor</td>\n",
       "      <td>0</td>\n",
       "      <td>2014-01-18</td>\n",
       "      <td>NaN</td>\n",
       "      <td>1.00</td>\n",
       "      <td>2014-04-20</td>\n",
       "      <td>Android</td>\n",
       "      <td>0.0</td>\n",
       "      <td>False</td>\n",
       "      <td>0.0</td>\n",
       "      <td>3.49</td>\n",
       "      <td>5.0</td>\n",
       "    </tr>\n",
       "  </tbody>\n",
       "</table>\n",
       "<p>50000 rows × 12 columns</p>\n",
       "</div>"
      ],
      "text/plain": [
       "                 city  trips_in_first_30_days signup_date  \\\n",
       "0      King's Landing                       4  2014-01-25   \n",
       "1             Astapor                       0  2014-01-29   \n",
       "2             Astapor                       3  2014-01-06   \n",
       "3      King's Landing                       9  2014-01-10   \n",
       "4          Winterfell                      14  2014-01-27   \n",
       "...               ...                     ...         ...   \n",
       "49995  King's Landing                       0  2014-01-25   \n",
       "49996         Astapor                       1  2014-01-24   \n",
       "49997      Winterfell                       0  2014-01-31   \n",
       "49998         Astapor                       2  2014-01-14   \n",
       "49999         Astapor                       0  2014-01-18   \n",
       "\n",
       "       avg_rating_of_driver  avg_surge last_trip_date    phone  surge_pct  \\\n",
       "0                       4.7       1.10     2014-06-17   iPhone       15.4   \n",
       "1                       5.0       1.00     2014-05-05  Android        0.0   \n",
       "2                       4.3       1.00     2014-01-07   iPhone        0.0   \n",
       "3                       4.6       1.14     2014-06-29   iPhone       20.0   \n",
       "4                       4.4       1.19     2014-03-15  Android       11.8   \n",
       "...                     ...        ...            ...      ...        ...   \n",
       "49995                   5.0       1.00     2014-06-05   iPhone        0.0   \n",
       "49996                   NaN       1.00     2014-01-25   iPhone        0.0   \n",
       "49997                   5.0       1.00     2014-05-22  Android        0.0   \n",
       "49998                   3.0       1.00     2014-01-15   iPhone        0.0   \n",
       "49999                   NaN       1.00     2014-04-20  Android        0.0   \n",
       "\n",
       "       ultimate_black_user  weekday_pct  avg_dist  avg_rating_by_driver  \n",
       "0                     True         46.2      3.67                   5.0  \n",
       "1                    False         50.0      8.26                   5.0  \n",
       "2                    False        100.0      0.77                   5.0  \n",
       "3                     True         80.0      2.36                   4.9  \n",
       "4                    False         82.4      3.13                   4.9  \n",
       "...                    ...          ...       ...                   ...  \n",
       "49995                False        100.0      5.63                   4.2  \n",
       "49996                False          0.0      0.00                   4.0  \n",
       "49997                 True        100.0      3.86                   5.0  \n",
       "49998                False        100.0      4.58                   3.5  \n",
       "49999                False          0.0      3.49                   5.0  \n",
       "\n",
       "[50000 rows x 12 columns]"
      ]
     },
     "execution_count": 3,
     "metadata": {},
     "output_type": "execute_result"
    }
   ],
   "source": [
    "# Load files\n",
    "\n",
    "df = pd.read_json('ultimate_data_challenge.json')\n",
    "df"
   ]
  },
  {
   "cell_type": "code",
   "execution_count": 4,
   "id": "fb638411",
   "metadata": {},
   "outputs": [
    {
     "name": "stdout",
     "output_type": "stream",
     "text": [
      "<class 'pandas.core.frame.DataFrame'>\n",
      "RangeIndex: 50000 entries, 0 to 49999\n",
      "Data columns (total 12 columns):\n",
      " #   Column                  Non-Null Count  Dtype  \n",
      "---  ------                  --------------  -----  \n",
      " 0   city                    50000 non-null  object \n",
      " 1   trips_in_first_30_days  50000 non-null  int64  \n",
      " 2   signup_date             50000 non-null  object \n",
      " 3   avg_rating_of_driver    41878 non-null  float64\n",
      " 4   avg_surge               50000 non-null  float64\n",
      " 5   last_trip_date          50000 non-null  object \n",
      " 6   phone                   49604 non-null  object \n",
      " 7   surge_pct               50000 non-null  float64\n",
      " 8   ultimate_black_user     50000 non-null  bool   \n",
      " 9   weekday_pct             50000 non-null  float64\n",
      " 10  avg_dist                50000 non-null  float64\n",
      " 11  avg_rating_by_driver    49799 non-null  float64\n",
      "dtypes: bool(1), float64(6), int64(1), object(4)\n",
      "memory usage: 4.2+ MB\n"
     ]
    }
   ],
   "source": [
    "# Show info\n",
    "df.info()"
   ]
  },
  {
   "cell_type": "code",
   "execution_count": 5,
   "id": "5ac691c7",
   "metadata": {},
   "outputs": [],
   "source": [
    "# Convert date columns to datetime\n",
    "df['signup_date'] = pd.to_datetime(df['signup_date'])\n",
    "df['last_trip_date'] = pd.to_datetime(df['last_trip_date'])"
   ]
  },
  {
   "cell_type": "code",
   "execution_count": 6,
   "id": "7426c934",
   "metadata": {},
   "outputs": [
    {
     "data": {
      "text/plain": [
       "city                         0\n",
       "trips_in_first_30_days       0\n",
       "signup_date                  0\n",
       "avg_rating_of_driver      8122\n",
       "avg_surge                    0\n",
       "last_trip_date               0\n",
       "phone                      396\n",
       "surge_pct                    0\n",
       "ultimate_black_user          0\n",
       "weekday_pct                  0\n",
       "avg_dist                     0\n",
       "avg_rating_by_driver       201\n",
       "dtype: int64"
      ]
     },
     "execution_count": 6,
     "metadata": {},
     "output_type": "execute_result"
    }
   ],
   "source": [
    "# Check for nulls\n",
    "df.isna().sum()"
   ]
  },
  {
   "cell_type": "code",
   "execution_count": 7,
   "id": "e6bdb27d",
   "metadata": {},
   "outputs": [],
   "source": [
    "\n",
    "from sklearn.experimental import enable_iterative_imputer\n",
    "from sklearn.impute import SimpleImputer, KNNImputer, IterativeImputer\n",
    "\n",
    "\n",
    "def iterative_imputer(p_data, p_col, p_strategy='mean', rs=33):\n",
    "    \"\"\"\n",
    "    Impute missing values in a DataFrame using the specified strategy.\n",
    "    \n",
    "    Parameters:\n",
    "    - p_data: DataFrame with missing values\n",
    "    - p_col: Column name to impute\n",
    "    - p_strategy: Imputation strategy ('mean', 'median', 'most_frequent')\n",
    "\n",
    "    Returns:\n",
    "    - numpy array with imputed values\n",
    "    \"\"\"\n",
    "    imputer  = IterativeImputer(random_state=rs, initial_strategy=p_strategy)\n",
    "    imputed = imputer.fit_transform(p_data[[p_col]])\n",
    "    return imputed\n",
    "\n"
   ]
  },
  {
   "cell_type": "code",
   "execution_count": 8,
   "id": "be3c634e",
   "metadata": {},
   "outputs": [
    {
     "name": "stdout",
     "output_type": "stream",
     "text": [
      "Imputed avg_rating_of_driver using IterativeImputer with mean strategy.\n",
      "Imputed avg_rating_by_driver using IterativeImputer with mean strategy.\n"
     ]
    }
   ],
   "source": [
    "# Impute missing rating values via IterativeImputer()\n",
    "cols_num_impute = ['avg_rating_of_driver', 'avg_rating_by_driver']\n",
    "\n",
    "for col in cols_num_impute:\n",
    "    df[col] = iterative_imputer(df, col, p_strategy='mean')\n",
    "    print(f\"Imputed {col} using IterativeImputer with mean strategy.\")\n"
   ]
  },
  {
   "cell_type": "code",
   "execution_count": 9,
   "id": "8e074dbe",
   "metadata": {},
   "outputs": [
    {
     "data": {
      "text/plain": [
       "city                        0\n",
       "trips_in_first_30_days      0\n",
       "signup_date                 0\n",
       "avg_rating_of_driver        0\n",
       "avg_surge                   0\n",
       "last_trip_date              0\n",
       "phone                     396\n",
       "surge_pct                   0\n",
       "ultimate_black_user         0\n",
       "weekday_pct                 0\n",
       "avg_dist                    0\n",
       "avg_rating_by_driver        0\n",
       "dtype: int64"
      ]
     },
     "execution_count": 9,
     "metadata": {},
     "output_type": "execute_result"
    }
   ],
   "source": [
    "df.isna().sum()"
   ]
  },
  {
   "cell_type": "code",
   "execution_count": 10,
   "id": "d4e0dfc4",
   "metadata": {},
   "outputs": [
    {
     "data": {
      "text/html": [
       "<div>\n",
       "<style scoped>\n",
       "    .dataframe tbody tr th:only-of-type {\n",
       "        vertical-align: middle;\n",
       "    }\n",
       "\n",
       "    .dataframe tbody tr th {\n",
       "        vertical-align: top;\n",
       "    }\n",
       "\n",
       "    .dataframe thead th {\n",
       "        text-align: right;\n",
       "    }\n",
       "</style>\n",
       "<table border=\"1\" class=\"dataframe\">\n",
       "  <thead>\n",
       "    <tr style=\"text-align: right;\">\n",
       "      <th></th>\n",
       "      <th>trips_in_first_30_days</th>\n",
       "      <th>signup_date</th>\n",
       "      <th>avg_rating_of_driver</th>\n",
       "      <th>avg_surge</th>\n",
       "      <th>last_trip_date</th>\n",
       "      <th>surge_pct</th>\n",
       "      <th>weekday_pct</th>\n",
       "      <th>avg_dist</th>\n",
       "      <th>avg_rating_by_driver</th>\n",
       "    </tr>\n",
       "  </thead>\n",
       "  <tbody>\n",
       "    <tr>\n",
       "      <th>count</th>\n",
       "      <td>50000.000000</td>\n",
       "      <td>50000</td>\n",
       "      <td>50000.000000</td>\n",
       "      <td>50000.000000</td>\n",
       "      <td>50000</td>\n",
       "      <td>50000.000000</td>\n",
       "      <td>50000.000000</td>\n",
       "      <td>50000.000000</td>\n",
       "      <td>50000.000000</td>\n",
       "    </tr>\n",
       "    <tr>\n",
       "      <th>mean</th>\n",
       "      <td>2.278200</td>\n",
       "      <td>2014-01-16 13:04:20.352000</td>\n",
       "      <td>4.601559</td>\n",
       "      <td>1.074764</td>\n",
       "      <td>2014-04-19 08:02:04.992000256</td>\n",
       "      <td>8.849536</td>\n",
       "      <td>60.926084</td>\n",
       "      <td>5.796827</td>\n",
       "      <td>4.778158</td>\n",
       "    </tr>\n",
       "    <tr>\n",
       "      <th>min</th>\n",
       "      <td>0.000000</td>\n",
       "      <td>2014-01-01 00:00:00</td>\n",
       "      <td>1.000000</td>\n",
       "      <td>1.000000</td>\n",
       "      <td>2014-01-01 00:00:00</td>\n",
       "      <td>0.000000</td>\n",
       "      <td>0.000000</td>\n",
       "      <td>0.000000</td>\n",
       "      <td>1.000000</td>\n",
       "    </tr>\n",
       "    <tr>\n",
       "      <th>25%</th>\n",
       "      <td>0.000000</td>\n",
       "      <td>2014-01-09 00:00:00</td>\n",
       "      <td>4.500000</td>\n",
       "      <td>1.000000</td>\n",
       "      <td>2014-02-14 00:00:00</td>\n",
       "      <td>0.000000</td>\n",
       "      <td>33.300000</td>\n",
       "      <td>2.420000</td>\n",
       "      <td>4.700000</td>\n",
       "    </tr>\n",
       "    <tr>\n",
       "      <th>50%</th>\n",
       "      <td>1.000000</td>\n",
       "      <td>2014-01-17 00:00:00</td>\n",
       "      <td>4.700000</td>\n",
       "      <td>1.000000</td>\n",
       "      <td>2014-05-08 00:00:00</td>\n",
       "      <td>0.000000</td>\n",
       "      <td>66.700000</td>\n",
       "      <td>3.880000</td>\n",
       "      <td>5.000000</td>\n",
       "    </tr>\n",
       "    <tr>\n",
       "      <th>75%</th>\n",
       "      <td>3.000000</td>\n",
       "      <td>2014-01-24 00:00:00</td>\n",
       "      <td>5.000000</td>\n",
       "      <td>1.050000</td>\n",
       "      <td>2014-06-18 00:00:00</td>\n",
       "      <td>8.600000</td>\n",
       "      <td>100.000000</td>\n",
       "      <td>6.940000</td>\n",
       "      <td>5.000000</td>\n",
       "    </tr>\n",
       "    <tr>\n",
       "      <th>max</th>\n",
       "      <td>125.000000</td>\n",
       "      <td>2014-01-31 00:00:00</td>\n",
       "      <td>5.000000</td>\n",
       "      <td>8.000000</td>\n",
       "      <td>2014-07-01 00:00:00</td>\n",
       "      <td>100.000000</td>\n",
       "      <td>100.000000</td>\n",
       "      <td>160.960000</td>\n",
       "      <td>5.000000</td>\n",
       "    </tr>\n",
       "    <tr>\n",
       "      <th>std</th>\n",
       "      <td>3.792684</td>\n",
       "      <td>NaN</td>\n",
       "      <td>0.564977</td>\n",
       "      <td>0.222336</td>\n",
       "      <td>NaN</td>\n",
       "      <td>19.958811</td>\n",
       "      <td>37.081503</td>\n",
       "      <td>5.707357</td>\n",
       "      <td>0.445753</td>\n",
       "    </tr>\n",
       "  </tbody>\n",
       "</table>\n",
       "</div>"
      ],
      "text/plain": [
       "       trips_in_first_30_days                 signup_date  \\\n",
       "count            50000.000000                       50000   \n",
       "mean                 2.278200  2014-01-16 13:04:20.352000   \n",
       "min                  0.000000         2014-01-01 00:00:00   \n",
       "25%                  0.000000         2014-01-09 00:00:00   \n",
       "50%                  1.000000         2014-01-17 00:00:00   \n",
       "75%                  3.000000         2014-01-24 00:00:00   \n",
       "max                125.000000         2014-01-31 00:00:00   \n",
       "std                  3.792684                         NaN   \n",
       "\n",
       "       avg_rating_of_driver     avg_surge                 last_trip_date  \\\n",
       "count          50000.000000  50000.000000                          50000   \n",
       "mean               4.601559      1.074764  2014-04-19 08:02:04.992000256   \n",
       "min                1.000000      1.000000            2014-01-01 00:00:00   \n",
       "25%                4.500000      1.000000            2014-02-14 00:00:00   \n",
       "50%                4.700000      1.000000            2014-05-08 00:00:00   \n",
       "75%                5.000000      1.050000            2014-06-18 00:00:00   \n",
       "max                5.000000      8.000000            2014-07-01 00:00:00   \n",
       "std                0.564977      0.222336                            NaN   \n",
       "\n",
       "          surge_pct   weekday_pct      avg_dist  avg_rating_by_driver  \n",
       "count  50000.000000  50000.000000  50000.000000          50000.000000  \n",
       "mean       8.849536     60.926084      5.796827              4.778158  \n",
       "min        0.000000      0.000000      0.000000              1.000000  \n",
       "25%        0.000000     33.300000      2.420000              4.700000  \n",
       "50%        0.000000     66.700000      3.880000              5.000000  \n",
       "75%        8.600000    100.000000      6.940000              5.000000  \n",
       "max      100.000000    100.000000    160.960000              5.000000  \n",
       "std       19.958811     37.081503      5.707357              0.445753  "
      ]
     },
     "execution_count": 10,
     "metadata": {},
     "output_type": "execute_result"
    }
   ],
   "source": [
    "# Describe the data\n",
    "df.describe()"
   ]
  },
  {
   "cell_type": "markdown",
   "id": "312b33df",
   "metadata": {},
   "source": [
    "### Fraction of Active users (retained over the last 30 days)"
   ]
  },
  {
   "cell_type": "code",
   "execution_count": 11,
   "id": "30a433b6",
   "metadata": {},
   "outputs": [
    {
     "name": "stdout",
     "output_type": "stream",
     "text": [
      "Latest trip date: 2014-07-01 00:00:00\n",
      "First trip date: 2014-01-01 00:00:00\n"
     ]
    }
   ],
   "source": [
    "# Get the first and last trip dates\n",
    "df['last_trip_date'].max()  # last trip date\n",
    "df['last_trip_date'].min()  # first trip date\n",
    "\n",
    "print(f'Latest trip date: {df[\"last_trip_date\"].max()}')\n",
    "print(f'First trip date: {df[\"last_trip_date\"].min()}') "
   ]
  },
  {
   "cell_type": "markdown",
   "id": "6abc8817",
   "metadata": {},
   "source": [
    "Go back 30 days prior to the latest last trip date and set the date as a the cutoff date. "
   ]
  },
  {
   "cell_type": "code",
   "execution_count": 12,
   "id": "33fd0c78",
   "metadata": {},
   "outputs": [
    {
     "name": "stdout",
     "output_type": "stream",
     "text": [
      "Cutoff date: 2014-06-01 00:00:00\n"
     ]
    }
   ],
   "source": [
    "# Define cutoff for retention: June 30, 2014 - 30 days = June 1, 2014\n",
    "cutoff_date = df['last_trip_date'].max() - pd.Timedelta(days=30)\n",
    "print(f'Cutoff date: {cutoff_date}')\n"
   ]
  },
  {
   "cell_type": "code",
   "execution_count": 13,
   "id": "b4955034",
   "metadata": {},
   "outputs": [],
   "source": [
    "# Add new retention column\n",
    "df['retained'] = df['last_trip_date'] >= cutoff_date"
   ]
  },
  {
   "cell_type": "code",
   "execution_count": 14,
   "id": "7e05d32e",
   "metadata": {},
   "outputs": [
    {
     "name": "stdout",
     "output_type": "stream",
     "text": [
      "Fraction of users who retained: 0.376\n"
     ]
    }
   ],
   "source": [
    "# Calculate fraction retained\n",
    "fraction_retained = df['retained'].mean()\n",
    "print(f'Fraction of users who retained: {round(fraction_retained,3)}')"
   ]
  },
  {
   "cell_type": "markdown",
   "id": "d089cbe0",
   "metadata": {},
   "source": [
    "<div class=\"alert alert-block alert-info\">\n",
    "37.6 % of users were considered active or retained\n",
    "</div>"
   ]
  },
  {
   "cell_type": "markdown",
   "id": "ad264482",
   "metadata": {},
   "source": [
    "### Building a predictive model"
   ]
  },
  {
   "cell_type": "code",
   "execution_count": 15,
   "id": "b21dc17b",
   "metadata": {},
   "outputs": [],
   "source": [
    "# Get fearures and target\n",
    "y = df['retained']\n",
    "X = df.drop(columns=['retained', 'last_trip_date', 'signup_date'])"
   ]
  },
  {
   "cell_type": "code",
   "execution_count": 16,
   "id": "0c865d91",
   "metadata": {},
   "outputs": [],
   "source": [
    "# Convert categorical label to 0 and 1\n",
    "y = y.astype(int)"
   ]
  },
  {
   "cell_type": "code",
   "execution_count": 17,
   "id": "bd20ac5b",
   "metadata": {},
   "outputs": [
    {
     "name": "stdout",
     "output_type": "stream",
     "text": [
      "Numeric columns: ['trips_in_first_30_days', 'avg_rating_of_driver', 'avg_surge', 'surge_pct', 'weekday_pct', 'avg_dist', 'avg_rating_by_driver']\n",
      "Categorical columns: ['city', 'phone']\n"
     ]
    }
   ],
   "source": [
    "# Get numeric columns\n",
    "cols_numeric = X.select_dtypes(include=[np.number]).columns.tolist()\n",
    "# Get categorical columns\n",
    "cols_categorical = X.select_dtypes(include='object').columns.tolist()\n",
    "\n",
    "\n",
    "print(f'Numeric columns: {cols_numeric}')\n",
    "print(f'Categorical columns: {cols_categorical}')"
   ]
  },
  {
   "cell_type": "markdown",
   "id": "b07148cc",
   "metadata": {},
   "source": [
    "##### Class Imbalance"
   ]
  },
  {
   "cell_type": "code",
   "execution_count": 18,
   "id": "03bd6562",
   "metadata": {},
   "outputs": [
    {
     "data": {
      "image/png": "[encoded data removed]",
      "text/plain": [
       "<Figure size 500x300 with 1 Axes>"
      ]
     },
     "metadata": {},
     "output_type": "display_data"
    }
   ],
   "source": [
    "# Plot proprtion of retained users\n",
    "sns.set_style('dark')\n",
    "plt.figure(figsize=(5, 3))\n",
    "\n",
    "ax = sns.countplot(x='retained', data=df, palette='Set1',hue='retained')\n",
    "\n",
    "plt.title('Retention')\n",
    "plt.legend().remove()\n",
    "\n",
    "total = y.count()\n",
    "\n",
    "for container in ax.containers:\n",
    "    ax.bar_label(container, labels=[f'{(v/total)*100:0.1f}%' for v in container.datavalues], weight='bold', label_type='edge', fontsize=8, padding=1)"
   ]
  },
  {
   "cell_type": "markdown",
   "id": "cdca3d82",
   "metadata": {},
   "source": [
    "There's a class imbalance on the data with roughly 38% of the users Active. \n"
   ]
  },
  {
   "cell_type": "markdown",
   "id": "765b7ac6",
   "metadata": {},
   "source": [
    "> - Since there's a class imbalance, ensure the splitting is stratified, and set the class_weight set to 'balanced'. "
   ]
  },
  {
   "cell_type": "code",
   "execution_count": 19,
   "id": "8f4f112d",
   "metadata": {},
   "outputs": [
    {
     "data": {
      "text/html": [
       "<div>\n",
       "<style scoped>\n",
       "    .dataframe tbody tr th:only-of-type {\n",
       "        vertical-align: middle;\n",
       "    }\n",
       "\n",
       "    .dataframe tbody tr th {\n",
       "        vertical-align: top;\n",
       "    }\n",
       "\n",
       "    .dataframe thead th {\n",
       "        text-align: right;\n",
       "    }\n",
       "</style>\n",
       "<table border=\"1\" class=\"dataframe\">\n",
       "  <thead>\n",
       "    <tr style=\"text-align: right;\">\n",
       "      <th></th>\n",
       "      <th>trips_in_first_30_days</th>\n",
       "      <th>avg_rating_of_driver</th>\n",
       "      <th>avg_surge</th>\n",
       "      <th>surge_pct</th>\n",
       "      <th>weekday_pct</th>\n",
       "      <th>avg_dist</th>\n",
       "      <th>avg_rating_by_driver</th>\n",
       "      <th>retained</th>\n",
       "    </tr>\n",
       "  </thead>\n",
       "  <tbody>\n",
       "    <tr>\n",
       "      <th>0</th>\n",
       "      <td>4</td>\n",
       "      <td>4.700000</td>\n",
       "      <td>1.10</td>\n",
       "      <td>15.4</td>\n",
       "      <td>46.2</td>\n",
       "      <td>3.67</td>\n",
       "      <td>5.0</td>\n",
       "      <td>1</td>\n",
       "    </tr>\n",
       "    <tr>\n",
       "      <th>1</th>\n",
       "      <td>0</td>\n",
       "      <td>5.000000</td>\n",
       "      <td>1.00</td>\n",
       "      <td>0.0</td>\n",
       "      <td>50.0</td>\n",
       "      <td>8.26</td>\n",
       "      <td>5.0</td>\n",
       "      <td>0</td>\n",
       "    </tr>\n",
       "    <tr>\n",
       "      <th>2</th>\n",
       "      <td>3</td>\n",
       "      <td>4.300000</td>\n",
       "      <td>1.00</td>\n",
       "      <td>0.0</td>\n",
       "      <td>100.0</td>\n",
       "      <td>0.77</td>\n",
       "      <td>5.0</td>\n",
       "      <td>0</td>\n",
       "    </tr>\n",
       "    <tr>\n",
       "      <th>3</th>\n",
       "      <td>9</td>\n",
       "      <td>4.600000</td>\n",
       "      <td>1.14</td>\n",
       "      <td>20.0</td>\n",
       "      <td>80.0</td>\n",
       "      <td>2.36</td>\n",
       "      <td>4.9</td>\n",
       "      <td>1</td>\n",
       "    </tr>\n",
       "    <tr>\n",
       "      <th>4</th>\n",
       "      <td>14</td>\n",
       "      <td>4.400000</td>\n",
       "      <td>1.19</td>\n",
       "      <td>11.8</td>\n",
       "      <td>82.4</td>\n",
       "      <td>3.13</td>\n",
       "      <td>4.9</td>\n",
       "      <td>0</td>\n",
       "    </tr>\n",
       "    <tr>\n",
       "      <th>...</th>\n",
       "      <td>...</td>\n",
       "      <td>...</td>\n",
       "      <td>...</td>\n",
       "      <td>...</td>\n",
       "      <td>...</td>\n",
       "      <td>...</td>\n",
       "      <td>...</td>\n",
       "      <td>...</td>\n",
       "    </tr>\n",
       "    <tr>\n",
       "      <th>49995</th>\n",
       "      <td>0</td>\n",
       "      <td>5.000000</td>\n",
       "      <td>1.00</td>\n",
       "      <td>0.0</td>\n",
       "      <td>100.0</td>\n",
       "      <td>5.63</td>\n",
       "      <td>4.2</td>\n",
       "      <td>1</td>\n",
       "    </tr>\n",
       "    <tr>\n",
       "      <th>49996</th>\n",
       "      <td>1</td>\n",
       "      <td>4.601559</td>\n",
       "      <td>1.00</td>\n",
       "      <td>0.0</td>\n",
       "      <td>0.0</td>\n",
       "      <td>0.00</td>\n",
       "      <td>4.0</td>\n",
       "      <td>0</td>\n",
       "    </tr>\n",
       "    <tr>\n",
       "      <th>49997</th>\n",
       "      <td>0</td>\n",
       "      <td>5.000000</td>\n",
       "      <td>1.00</td>\n",
       "      <td>0.0</td>\n",
       "      <td>100.0</td>\n",
       "      <td>3.86</td>\n",
       "      <td>5.0</td>\n",
       "      <td>0</td>\n",
       "    </tr>\n",
       "    <tr>\n",
       "      <th>49998</th>\n",
       "      <td>2</td>\n",
       "      <td>3.000000</td>\n",
       "      <td>1.00</td>\n",
       "      <td>0.0</td>\n",
       "      <td>100.0</td>\n",
       "      <td>4.58</td>\n",
       "      <td>3.5</td>\n",
       "      <td>0</td>\n",
       "    </tr>\n",
       "    <tr>\n",
       "      <th>49999</th>\n",
       "      <td>0</td>\n",
       "      <td>4.601559</td>\n",
       "      <td>1.00</td>\n",
       "      <td>0.0</td>\n",
       "      <td>0.0</td>\n",
       "      <td>3.49</td>\n",
       "      <td>5.0</td>\n",
       "      <td>0</td>\n",
       "    </tr>\n",
       "  </tbody>\n",
       "</table>\n",
       "<p>50000 rows × 8 columns</p>\n",
       "</div>"
      ],
      "text/plain": [
       "       trips_in_first_30_days  avg_rating_of_driver  avg_surge  surge_pct  \\\n",
       "0                           4              4.700000       1.10       15.4   \n",
       "1                           0              5.000000       1.00        0.0   \n",
       "2                           3              4.300000       1.00        0.0   \n",
       "3                           9              4.600000       1.14       20.0   \n",
       "4                          14              4.400000       1.19       11.8   \n",
       "...                       ...                   ...        ...        ...   \n",
       "49995                       0              5.000000       1.00        0.0   \n",
       "49996                       1              4.601559       1.00        0.0   \n",
       "49997                       0              5.000000       1.00        0.0   \n",
       "49998                       2              3.000000       1.00        0.0   \n",
       "49999                       0              4.601559       1.00        0.0   \n",
       "\n",
       "       weekday_pct  avg_dist  avg_rating_by_driver  retained  \n",
       "0             46.2      3.67                   5.0         1  \n",
       "1             50.0      8.26                   5.0         0  \n",
       "2            100.0      0.77                   5.0         0  \n",
       "3             80.0      2.36                   4.9         1  \n",
       "4             82.4      3.13                   4.9         0  \n",
       "...            ...       ...                   ...       ...  \n",
       "49995        100.0      5.63                   4.2         1  \n",
       "49996          0.0      0.00                   4.0         0  \n",
       "49997        100.0      3.86                   5.0         0  \n",
       "49998        100.0      4.58                   3.5         0  \n",
       "49999          0.0      3.49                   5.0         0  \n",
       "\n",
       "[50000 rows x 8 columns]"
      ]
     },
     "execution_count": 19,
     "metadata": {},
     "output_type": "execute_result"
    }
   ],
   "source": [
    "X_numeric = pd.concat([X[cols_numeric], y], axis=1)\n",
    "X_numeric"
   ]
  },
  {
   "cell_type": "markdown",
   "id": "8dfc07da",
   "metadata": {},
   "source": [
    "##### Features correlation"
   ]
  },
  {
   "cell_type": "code",
   "execution_count": 20,
   "id": "04a9269f",
   "metadata": {},
   "outputs": [
    {
     "data": {
      "image/png": "[encoded data removed]",
      "text/plain": [
       "<Figure size 1000x800 with 2 Axes>"
      ]
     },
     "metadata": {},
     "output_type": "display_data"
    }
   ],
   "source": [
    "# See correlation matrix\n",
    "\n",
    "X_corr = X_numeric.corr()\n",
    "plt.figure(figsize=(10, 8))\n",
    "sns.heatmap(X_corr, annot=True, fmt='.2f')\n",
    "plt.title('Correlation Matrix')\n",
    "plt.show()"
   ]
  },
  {
   "cell_type": "markdown",
   "id": "95f1efa0",
   "metadata": {},
   "source": [
    "##### Transformation/Encoding"
   ]
  },
  {
   "cell_type": "code",
   "execution_count": 21,
   "id": "ef5be5a9",
   "metadata": {},
   "outputs": [],
   "source": [
    "# X.ultimate_black_user.astype(int)\n",
    "# X['ultimate_black_user'] = X['ultimate_black_user'].astype(int)"
   ]
  },
  {
   "cell_type": "code",
   "execution_count": 22,
   "id": "0e09a939",
   "metadata": {},
   "outputs": [],
   "source": [
    "# Label encode categorical columns\n",
    "from sklearn.preprocessing import LabelEncoder"
   ]
  },
  {
   "cell_type": "code",
   "execution_count": 23,
   "id": "e431e29a",
   "metadata": {},
   "outputs": [],
   "source": [
    "def label_encoder(p_data, cat_col, enc_label):\n",
    "    \"\"\"\n",
    "    Label encode a categorical column in a DataFrame.\n",
    "    \n",
    "    Parameters:\n",
    "    - p_data: DataFrame with categorical column\n",
    "    - cat_col: Column name to encode\n",
    "    - enc_label: LabelEncoder object\n",
    "    \n",
    "    Returns:\n",
    "    - DataFrame with encoded column\n",
    "    \"\"\"\n",
    "\n",
    "    le = LabelEncoder()\n",
    "    le.fit(p_data[cat_col])\n",
    "    p_data[enc_label] = le.transform(p_data[cat_col])\n",
    "\n",
    "    mapped_labels = dict(zip(le.classes_, le.transform(le.classes_)))\n",
    "    print(f\"Label mapping for {cat_col}: {mapped_labels}\")\n",
    "\n",
    "\n",
    "\n",
    "    p_data[enc_label] = p_data[enc_label].apply(lambda x: np.NaN if x== mapped_labels.get(np.nan) else x)\n",
    "\n",
    "    return mapped_labels"
   ]
  },
  {
   "cell_type": "code",
   "execution_count": 24,
   "id": "26cb97c3",
   "metadata": {},
   "outputs": [
    {
     "name": "stdout",
     "output_type": "stream",
     "text": [
      "Label mapping for phone: {'Android': 0, 'iPhone': 1, None: 2}\n",
      "Label mapping for city: {'Astapor': 0, \"King's Landing\": 1, 'Winterfell': 2}\n",
      "Label mapping for retained: {False: 0, True: 1}\n"
     ]
    }
   ],
   "source": [
    "map_phone = label_encoder(X, 'phone', 'phone_enc')\n",
    "map_city = label_encoder(X, 'city', 'city_enc')\n",
    "map_retention = label_encoder(df, 'retained', 'retention_enc')"
   ]
  },
  {
   "cell_type": "markdown",
   "id": "58c31a17",
   "metadata": {},
   "source": [
    "##### Impute missing values"
   ]
  },
  {
   "cell_type": "code",
   "execution_count": 25,
   "id": "72b2f9be",
   "metadata": {},
   "outputs": [],
   "source": [
    "def iterative_imputer_estimator(p_data, p_feats=[], p_estimator = None, p_strategy= 'mean', rs = 33):\n",
    "    \"\"\"\n",
    "    Impute missing values in a DataFrame using the specified estimator.\n",
    "    \n",
    "    Parameters:\n",
    "    - p_data: DataFrame with missing values\n",
    "    - p_feats: List of features to impute\n",
    "    - p_estimator: Estimator for imputation (e.g., RandomForestClassifier)\n",
    "    - rs: Random state for reproducibility\n",
    "    \n",
    "    Returns:\n",
    "    - numpy.ndarray with imputed values\n",
    "    \"\"\"\n",
    "    \n",
    "    imputer = IterativeImputer(estimator=p_estimator, strategy=p_strategy, random_state=rs)\n",
    "    imputed = imputer.fit_transform(p_data[p_feats])\n",
    "    \n",
    "    return imputed"
   ]
  },
  {
   "cell_type": "markdown",
   "id": "3a319220",
   "metadata": {},
   "source": [
    "##### Chi-square test on categorical columns"
   ]
  },
  {
   "cell_type": "code",
   "execution_count": 26,
   "id": "a012ac72",
   "metadata": {},
   "outputs": [],
   "source": [
    "# Drop categorical columns \n",
    "X = X.drop(columns=['phone', 'city'])\n",
    "X_cats = X[['phone_enc', 'city_enc']]"
   ]
  },
  {
   "cell_type": "code",
   "execution_count": 27,
   "id": "68a680ea",
   "metadata": {},
   "outputs": [
    {
     "data": {
      "text/plain": [
       "(array([745.50223874, 152.76245895]),\n",
       " array([3.81400017e-164, 4.31705329e-035]))"
      ]
     },
     "execution_count": 27,
     "metadata": {},
     "output_type": "execute_result"
    }
   ],
   "source": [
    "# Perform Chi-Squared test on categorical features using encoded columns\n",
    "\n",
    "from sklearn.feature_selection import chi2\n",
    "\n",
    "chi_results = chi2(X_cats,y)\n",
    "chi_results"
   ]
  },
  {
   "cell_type": "markdown",
   "id": "5a7aa907",
   "metadata": {},
   "source": [
    "> Testing the association of each categorical column and income at $\\alpha$ = 0.05:\n",
    "> - H0 : There is NO significant association between each of the categorical columns and income.\n",
    "> - HA : There is a significant association between each of the categorical columns and income.\n",
    ">    \n"
   ]
  },
  {
   "cell_type": "code",
   "execution_count": 28,
   "id": "051f4bf0",
   "metadata": {},
   "outputs": [],
   "source": [
    "alpha = 0.05\n",
    "chi_scores = pd.Series(chi_results[0], index=X_cats.columns).sort_values(ascending=False)\n",
    "p_values = pd.Series(chi_results[1], index=X_cats.columns).sort_values()\n"
   ]
  },
  {
   "cell_type": "code",
   "execution_count": 29,
   "id": "e9d946df",
   "metadata": {},
   "outputs": [
    {
     "data": {
      "image/png": "[encoded data removed]",
      "text/plain": [
       "<Figure size 500x300 with 1 Axes>"
      ]
     },
     "metadata": {},
     "output_type": "display_data"
    }
   ],
   "source": [
    "# Plot Chi-Squared T-Statistic test results\n",
    "plt.figure(figsize=(5,3))\n",
    "chi_scores.plot.bar()\n",
    "plt.xlabel('Features')\n",
    "plt.ylabel('Test Statistic')\n",
    "plt.title('Chi-Squared Test Statistic')\n",
    "plt.tight_layout()\n",
    "plt.show()"
   ]
  },
  {
   "cell_type": "code",
   "execution_count": 30,
   "id": "fd44dee2",
   "metadata": {},
   "outputs": [
    {
     "data": {
      "image/png": "[encoded data removed]",
      "text/plain": [
       "<Figure size 500x300 with 1 Axes>"
      ]
     },
     "metadata": {},
     "output_type": "display_data"
    }
   ],
   "source": [
    "# Plot Chi-Squared test results p-values\n",
    "plt.figure(figsize=(5,3))\n",
    "p_values.plot.bar()\n",
    "plt.xlabel('Features')\n",
    "plt.ylabel('p-Value')\n",
    "plt.title('Chi-Squared Test p-Value')\n",
    "plt.axhline(y=alpha, linestyle='--', color='red', label=f'alpha = {alpha}')\n",
    "plt.legend()\n",
    "plt.tight_layout()\n",
    "plt.show()"
   ]
  },
  {
   "cell_type": "markdown",
   "id": "4f5ddb6c",
   "metadata": {},
   "source": [
    "> As the p-values are significantly below 0.05, we reject the H0 that there is NO significant association between these features and the label. "
   ]
  },
  {
   "cell_type": "markdown",
   "id": "3b0bc8a2",
   "metadata": {},
   "source": [
    "##### Dummy Features"
   ]
  },
  {
   "cell_type": "code",
   "execution_count": 31,
   "id": "d43ecccf",
   "metadata": {},
   "outputs": [],
   "source": [
    "X.drop(['phone_enc', 'city_enc'], axis=1, inplace=True)"
   ]
  },
  {
   "cell_type": "code",
   "execution_count": 32,
   "id": "c5d2fba0",
   "metadata": {},
   "outputs": [],
   "source": [
    "df_obj = df.select_dtypes(include='object')"
   ]
  },
  {
   "cell_type": "code",
   "execution_count": 33,
   "id": "1489d833",
   "metadata": {},
   "outputs": [
    {
     "data": {
      "text/html": [
       "<div>\n",
       "<style scoped>\n",
       "    .dataframe tbody tr th:only-of-type {\n",
       "        vertical-align: middle;\n",
       "    }\n",
       "\n",
       "    .dataframe tbody tr th {\n",
       "        vertical-align: top;\n",
       "    }\n",
       "\n",
       "    .dataframe thead th {\n",
       "        text-align: right;\n",
       "    }\n",
       "</style>\n",
       "<table border=\"1\" class=\"dataframe\">\n",
       "  <thead>\n",
       "    <tr style=\"text-align: right;\">\n",
       "      <th></th>\n",
       "      <th>trips_in_first_30_days</th>\n",
       "      <th>avg_rating_of_driver</th>\n",
       "      <th>avg_surge</th>\n",
       "      <th>surge_pct</th>\n",
       "      <th>ultimate_black_user</th>\n",
       "      <th>weekday_pct</th>\n",
       "      <th>avg_dist</th>\n",
       "      <th>avg_rating_by_driver</th>\n",
       "      <th>city</th>\n",
       "      <th>phone</th>\n",
       "    </tr>\n",
       "  </thead>\n",
       "  <tbody>\n",
       "    <tr>\n",
       "      <th>0</th>\n",
       "      <td>4</td>\n",
       "      <td>4.700000</td>\n",
       "      <td>1.10</td>\n",
       "      <td>15.4</td>\n",
       "      <td>True</td>\n",
       "      <td>46.2</td>\n",
       "      <td>3.67</td>\n",
       "      <td>5.0</td>\n",
       "      <td>King's Landing</td>\n",
       "      <td>iPhone</td>\n",
       "    </tr>\n",
       "    <tr>\n",
       "      <th>1</th>\n",
       "      <td>0</td>\n",
       "      <td>5.000000</td>\n",
       "      <td>1.00</td>\n",
       "      <td>0.0</td>\n",
       "      <td>False</td>\n",
       "      <td>50.0</td>\n",
       "      <td>8.26</td>\n",
       "      <td>5.0</td>\n",
       "      <td>Astapor</td>\n",
       "      <td>Android</td>\n",
       "    </tr>\n",
       "    <tr>\n",
       "      <th>2</th>\n",
       "      <td>3</td>\n",
       "      <td>4.300000</td>\n",
       "      <td>1.00</td>\n",
       "      <td>0.0</td>\n",
       "      <td>False</td>\n",
       "      <td>100.0</td>\n",
       "      <td>0.77</td>\n",
       "      <td>5.0</td>\n",
       "      <td>Astapor</td>\n",
       "      <td>iPhone</td>\n",
       "    </tr>\n",
       "    <tr>\n",
       "      <th>3</th>\n",
       "      <td>9</td>\n",
       "      <td>4.600000</td>\n",
       "      <td>1.14</td>\n",
       "      <td>20.0</td>\n",
       "      <td>True</td>\n",
       "      <td>80.0</td>\n",
       "      <td>2.36</td>\n",
       "      <td>4.9</td>\n",
       "      <td>King's Landing</td>\n",
       "      <td>iPhone</td>\n",
       "    </tr>\n",
       "    <tr>\n",
       "      <th>4</th>\n",
       "      <td>14</td>\n",
       "      <td>4.400000</td>\n",
       "      <td>1.19</td>\n",
       "      <td>11.8</td>\n",
       "      <td>False</td>\n",
       "      <td>82.4</td>\n",
       "      <td>3.13</td>\n",
       "      <td>4.9</td>\n",
       "      <td>Winterfell</td>\n",
       "      <td>Android</td>\n",
       "    </tr>\n",
       "    <tr>\n",
       "      <th>...</th>\n",
       "      <td>...</td>\n",
       "      <td>...</td>\n",
       "      <td>...</td>\n",
       "      <td>...</td>\n",
       "      <td>...</td>\n",
       "      <td>...</td>\n",
       "      <td>...</td>\n",
       "      <td>...</td>\n",
       "      <td>...</td>\n",
       "      <td>...</td>\n",
       "    </tr>\n",
       "    <tr>\n",
       "      <th>49995</th>\n",
       "      <td>0</td>\n",
       "      <td>5.000000</td>\n",
       "      <td>1.00</td>\n",
       "      <td>0.0</td>\n",
       "      <td>False</td>\n",
       "      <td>100.0</td>\n",
       "      <td>5.63</td>\n",
       "      <td>4.2</td>\n",
       "      <td>King's Landing</td>\n",
       "      <td>iPhone</td>\n",
       "    </tr>\n",
       "    <tr>\n",
       "      <th>49996</th>\n",
       "      <td>1</td>\n",
       "      <td>4.601559</td>\n",
       "      <td>1.00</td>\n",
       "      <td>0.0</td>\n",
       "      <td>False</td>\n",
       "      <td>0.0</td>\n",
       "      <td>0.00</td>\n",
       "      <td>4.0</td>\n",
       "      <td>Astapor</td>\n",
       "      <td>iPhone</td>\n",
       "    </tr>\n",
       "    <tr>\n",
       "      <th>49997</th>\n",
       "      <td>0</td>\n",
       "      <td>5.000000</td>\n",
       "      <td>1.00</td>\n",
       "      <td>0.0</td>\n",
       "      <td>True</td>\n",
       "      <td>100.0</td>\n",
       "      <td>3.86</td>\n",
       "      <td>5.0</td>\n",
       "      <td>Winterfell</td>\n",
       "      <td>Android</td>\n",
       "    </tr>\n",
       "    <tr>\n",
       "      <th>49998</th>\n",
       "      <td>2</td>\n",
       "      <td>3.000000</td>\n",
       "      <td>1.00</td>\n",
       "      <td>0.0</td>\n",
       "      <td>False</td>\n",
       "      <td>100.0</td>\n",
       "      <td>4.58</td>\n",
       "      <td>3.5</td>\n",
       "      <td>Astapor</td>\n",
       "      <td>iPhone</td>\n",
       "    </tr>\n",
       "    <tr>\n",
       "      <th>49999</th>\n",
       "      <td>0</td>\n",
       "      <td>4.601559</td>\n",
       "      <td>1.00</td>\n",
       "      <td>0.0</td>\n",
       "      <td>False</td>\n",
       "      <td>0.0</td>\n",
       "      <td>3.49</td>\n",
       "      <td>5.0</td>\n",
       "      <td>Astapor</td>\n",
       "      <td>Android</td>\n",
       "    </tr>\n",
       "  </tbody>\n",
       "</table>\n",
       "<p>50000 rows × 10 columns</p>\n",
       "</div>"
      ],
      "text/plain": [
       "       trips_in_first_30_days  avg_rating_of_driver  avg_surge  surge_pct  \\\n",
       "0                           4              4.700000       1.10       15.4   \n",
       "1                           0              5.000000       1.00        0.0   \n",
       "2                           3              4.300000       1.00        0.0   \n",
       "3                           9              4.600000       1.14       20.0   \n",
       "4                          14              4.400000       1.19       11.8   \n",
       "...                       ...                   ...        ...        ...   \n",
       "49995                       0              5.000000       1.00        0.0   \n",
       "49996                       1              4.601559       1.00        0.0   \n",
       "49997                       0              5.000000       1.00        0.0   \n",
       "49998                       2              3.000000       1.00        0.0   \n",
       "49999                       0              4.601559       1.00        0.0   \n",
       "\n",
       "       ultimate_black_user  weekday_pct  avg_dist  avg_rating_by_driver  \\\n",
       "0                     True         46.2      3.67                   5.0   \n",
       "1                    False         50.0      8.26                   5.0   \n",
       "2                    False        100.0      0.77                   5.0   \n",
       "3                     True         80.0      2.36                   4.9   \n",
       "4                    False         82.4      3.13                   4.9   \n",
       "...                    ...          ...       ...                   ...   \n",
       "49995                False        100.0      5.63                   4.2   \n",
       "49996                False          0.0      0.00                   4.0   \n",
       "49997                 True        100.0      3.86                   5.0   \n",
       "49998                False        100.0      4.58                   3.5   \n",
       "49999                False          0.0      3.49                   5.0   \n",
       "\n",
       "                 city    phone  \n",
       "0      King's Landing   iPhone  \n",
       "1             Astapor  Android  \n",
       "2             Astapor   iPhone  \n",
       "3      King's Landing   iPhone  \n",
       "4          Winterfell  Android  \n",
       "...               ...      ...  \n",
       "49995  King's Landing   iPhone  \n",
       "49996         Astapor   iPhone  \n",
       "49997      Winterfell  Android  \n",
       "49998         Astapor   iPhone  \n",
       "49999         Astapor  Android  \n",
       "\n",
       "[50000 rows x 10 columns]"
      ]
     },
     "execution_count": 33,
     "metadata": {},
     "output_type": "execute_result"
    }
   ],
   "source": [
    "X = pd.concat([X, df_obj], axis=1)\n",
    "X"
   ]
  },
  {
   "cell_type": "code",
   "execution_count": 34,
   "id": "7f883fd1",
   "metadata": {},
   "outputs": [
    {
     "data": {
      "text/html": [
       "<div>\n",
       "<style scoped>\n",
       "    .dataframe tbody tr th:only-of-type {\n",
       "        vertical-align: middle;\n",
       "    }\n",
       "\n",
       "    .dataframe tbody tr th {\n",
       "        vertical-align: top;\n",
       "    }\n",
       "\n",
       "    .dataframe thead th {\n",
       "        text-align: right;\n",
       "    }\n",
       "</style>\n",
       "<table border=\"1\" class=\"dataframe\">\n",
       "  <thead>\n",
       "    <tr style=\"text-align: right;\">\n",
       "      <th></th>\n",
       "      <th>trips_in_first_30_days</th>\n",
       "      <th>avg_rating_of_driver</th>\n",
       "      <th>avg_surge</th>\n",
       "      <th>surge_pct</th>\n",
       "      <th>ultimate_black_user</th>\n",
       "      <th>weekday_pct</th>\n",
       "      <th>avg_dist</th>\n",
       "      <th>avg_rating_by_driver</th>\n",
       "      <th>city_King's Landing</th>\n",
       "      <th>city_Winterfell</th>\n",
       "      <th>phone_iPhone</th>\n",
       "    </tr>\n",
       "  </thead>\n",
       "  <tbody>\n",
       "    <tr>\n",
       "      <th>0</th>\n",
       "      <td>4</td>\n",
       "      <td>4.700000</td>\n",
       "      <td>1.10</td>\n",
       "      <td>15.4</td>\n",
       "      <td>True</td>\n",
       "      <td>46.2</td>\n",
       "      <td>3.67</td>\n",
       "      <td>5.0</td>\n",
       "      <td>True</td>\n",
       "      <td>False</td>\n",
       "      <td>True</td>\n",
       "    </tr>\n",
       "    <tr>\n",
       "      <th>1</th>\n",
       "      <td>0</td>\n",
       "      <td>5.000000</td>\n",
       "      <td>1.00</td>\n",
       "      <td>0.0</td>\n",
       "      <td>False</td>\n",
       "      <td>50.0</td>\n",
       "      <td>8.26</td>\n",
       "      <td>5.0</td>\n",
       "      <td>False</td>\n",
       "      <td>False</td>\n",
       "      <td>False</td>\n",
       "    </tr>\n",
       "    <tr>\n",
       "      <th>2</th>\n",
       "      <td>3</td>\n",
       "      <td>4.300000</td>\n",
       "      <td>1.00</td>\n",
       "      <td>0.0</td>\n",
       "      <td>False</td>\n",
       "      <td>100.0</td>\n",
       "      <td>0.77</td>\n",
       "      <td>5.0</td>\n",
       "      <td>False</td>\n",
       "      <td>False</td>\n",
       "      <td>True</td>\n",
       "    </tr>\n",
       "    <tr>\n",
       "      <th>3</th>\n",
       "      <td>9</td>\n",
       "      <td>4.600000</td>\n",
       "      <td>1.14</td>\n",
       "      <td>20.0</td>\n",
       "      <td>True</td>\n",
       "      <td>80.0</td>\n",
       "      <td>2.36</td>\n",
       "      <td>4.9</td>\n",
       "      <td>True</td>\n",
       "      <td>False</td>\n",
       "      <td>True</td>\n",
       "    </tr>\n",
       "    <tr>\n",
       "      <th>4</th>\n",
       "      <td>14</td>\n",
       "      <td>4.400000</td>\n",
       "      <td>1.19</td>\n",
       "      <td>11.8</td>\n",
       "      <td>False</td>\n",
       "      <td>82.4</td>\n",
       "      <td>3.13</td>\n",
       "      <td>4.9</td>\n",
       "      <td>False</td>\n",
       "      <td>True</td>\n",
       "      <td>False</td>\n",
       "    </tr>\n",
       "    <tr>\n",
       "      <th>...</th>\n",
       "      <td>...</td>\n",
       "      <td>...</td>\n",
       "      <td>...</td>\n",
       "      <td>...</td>\n",
       "      <td>...</td>\n",
       "      <td>...</td>\n",
       "      <td>...</td>\n",
       "      <td>...</td>\n",
       "      <td>...</td>\n",
       "      <td>...</td>\n",
       "      <td>...</td>\n",
       "    </tr>\n",
       "    <tr>\n",
       "      <th>49995</th>\n",
       "      <td>0</td>\n",
       "      <td>5.000000</td>\n",
       "      <td>1.00</td>\n",
       "      <td>0.0</td>\n",
       "      <td>False</td>\n",
       "      <td>100.0</td>\n",
       "      <td>5.63</td>\n",
       "      <td>4.2</td>\n",
       "      <td>True</td>\n",
       "      <td>False</td>\n",
       "      <td>True</td>\n",
       "    </tr>\n",
       "    <tr>\n",
       "      <th>49996</th>\n",
       "      <td>1</td>\n",
       "      <td>4.601559</td>\n",
       "      <td>1.00</td>\n",
       "      <td>0.0</td>\n",
       "      <td>False</td>\n",
       "      <td>0.0</td>\n",
       "      <td>0.00</td>\n",
       "      <td>4.0</td>\n",
       "      <td>False</td>\n",
       "      <td>False</td>\n",
       "      <td>True</td>\n",
       "    </tr>\n",
       "    <tr>\n",
       "      <th>49997</th>\n",
       "      <td>0</td>\n",
       "      <td>5.000000</td>\n",
       "      <td>1.00</td>\n",
       "      <td>0.0</td>\n",
       "      <td>True</td>\n",
       "      <td>100.0</td>\n",
       "      <td>3.86</td>\n",
       "      <td>5.0</td>\n",
       "      <td>False</td>\n",
       "      <td>True</td>\n",
       "      <td>False</td>\n",
       "    </tr>\n",
       "    <tr>\n",
       "      <th>49998</th>\n",
       "      <td>2</td>\n",
       "      <td>3.000000</td>\n",
       "      <td>1.00</td>\n",
       "      <td>0.0</td>\n",
       "      <td>False</td>\n",
       "      <td>100.0</td>\n",
       "      <td>4.58</td>\n",
       "      <td>3.5</td>\n",
       "      <td>False</td>\n",
       "      <td>False</td>\n",
       "      <td>True</td>\n",
       "    </tr>\n",
       "    <tr>\n",
       "      <th>49999</th>\n",
       "      <td>0</td>\n",
       "      <td>4.601559</td>\n",
       "      <td>1.00</td>\n",
       "      <td>0.0</td>\n",
       "      <td>False</td>\n",
       "      <td>0.0</td>\n",
       "      <td>3.49</td>\n",
       "      <td>5.0</td>\n",
       "      <td>False</td>\n",
       "      <td>False</td>\n",
       "      <td>False</td>\n",
       "    </tr>\n",
       "  </tbody>\n",
       "</table>\n",
       "<p>50000 rows × 11 columns</p>\n",
       "</div>"
      ],
      "text/plain": [
       "       trips_in_first_30_days  avg_rating_of_driver  avg_surge  surge_pct  \\\n",
       "0                           4              4.700000       1.10       15.4   \n",
       "1                           0              5.000000       1.00        0.0   \n",
       "2                           3              4.300000       1.00        0.0   \n",
       "3                           9              4.600000       1.14       20.0   \n",
       "4                          14              4.400000       1.19       11.8   \n",
       "...                       ...                   ...        ...        ...   \n",
       "49995                       0              5.000000       1.00        0.0   \n",
       "49996                       1              4.601559       1.00        0.0   \n",
       "49997                       0              5.000000       1.00        0.0   \n",
       "49998                       2              3.000000       1.00        0.0   \n",
       "49999                       0              4.601559       1.00        0.0   \n",
       "\n",
       "       ultimate_black_user  weekday_pct  avg_dist  avg_rating_by_driver  \\\n",
       "0                     True         46.2      3.67                   5.0   \n",
       "1                    False         50.0      8.26                   5.0   \n",
       "2                    False        100.0      0.77                   5.0   \n",
       "3                     True         80.0      2.36                   4.9   \n",
       "4                    False         82.4      3.13                   4.9   \n",
       "...                    ...          ...       ...                   ...   \n",
       "49995                False        100.0      5.63                   4.2   \n",
       "49996                False          0.0      0.00                   4.0   \n",
       "49997                 True        100.0      3.86                   5.0   \n",
       "49998                False        100.0      4.58                   3.5   \n",
       "49999                False          0.0      3.49                   5.0   \n",
       "\n",
       "       city_King's Landing  city_Winterfell  phone_iPhone  \n",
       "0                     True            False          True  \n",
       "1                    False            False         False  \n",
       "2                    False            False          True  \n",
       "3                     True            False          True  \n",
       "4                    False             True         False  \n",
       "...                    ...              ...           ...  \n",
       "49995                 True            False          True  \n",
       "49996                False            False          True  \n",
       "49997                False             True         False  \n",
       "49998                False            False          True  \n",
       "49999                False            False         False  \n",
       "\n",
       "[50000 rows x 11 columns]"
      ]
     },
     "execution_count": 34,
     "metadata": {},
     "output_type": "execute_result"
    }
   ],
   "source": [
    "X = pd.get_dummies(X, drop_first=True)\n",
    "X"
   ]
  },
  {
   "cell_type": "code",
   "execution_count": 35,
   "id": "f4a2fcdf",
   "metadata": {},
   "outputs": [
    {
     "data": {
      "text/plain": [
       "Index(['trips_in_first_30_days', 'avg_rating_of_driver', 'avg_surge',\n",
       "       'surge_pct', 'ultimate_black_user', 'weekday_pct', 'avg_dist',\n",
       "       'avg_rating_by_driver', 'city_King's Landing', 'city_Winterfell',\n",
       "       'phone_iPhone'],\n",
       "      dtype='object')"
      ]
     },
     "execution_count": 35,
     "metadata": {},
     "output_type": "execute_result"
    }
   ],
   "source": [
    "X.columns"
   ]
  },
  {
   "cell_type": "markdown",
   "id": "909ea325",
   "metadata": {},
   "source": [
    "##### Train-Test Split"
   ]
  },
  {
   "cell_type": "code",
   "execution_count": 36,
   "id": "64df7acd",
   "metadata": {},
   "outputs": [
    {
     "name": "stdout",
     "output_type": "stream",
     "text": [
      "Train set size: 40000\n",
      "Test set size: 10000\n"
     ]
    }
   ],
   "source": [
    "from sklearn.model_selection import train_test_split\n",
    "\n",
    "X_train, X_test, y_train, y_test = train_test_split(X, y, test_size=0.2, stratify=y, random_state=33)\n",
    "print(f\"Train set size: {X_train.shape[0]}\")\n",
    "print(f\"Test set size: {X_test.shape[0]}\")"
   ]
  },
  {
   "cell_type": "code",
   "execution_count": 37,
   "id": "02f3781a",
   "metadata": {},
   "outputs": [
    {
     "data": {
      "text/plain": [
       "array([[    0, 24957],\n",
       "       [    1, 15043]])"
      ]
     },
     "metadata": {},
     "output_type": "display_data"
    },
    {
     "data": {
      "text/plain": [
       "array([[   0, 6239],\n",
       "       [   1, 3761]])"
      ]
     },
     "metadata": {},
     "output_type": "display_data"
    }
   ],
   "source": [
    "# value_counts in y_train and y_test\n",
    "\n",
    "display(np.array(np.unique(y_train, return_counts=True)).T)\n",
    "display(np.array(np.unique(y_test, return_counts=True)).T)"
   ]
  },
  {
   "cell_type": "markdown",
   "id": "6e91ce71",
   "metadata": {},
   "source": [
    "##### Scaling"
   ]
  },
  {
   "cell_type": "code",
   "execution_count": 38,
   "id": "fc6e27e7",
   "metadata": {},
   "outputs": [],
   "source": [
    "# Scale the data before hyperparameter tuning\n",
    "from sklearn.preprocessing import StandardScaler\n",
    "\n",
    "scaler = StandardScaler().fit(X_train)\n",
    "\n",
    "X_train_scaled = scaler.transform(X_train)\n",
    "X_test_scaled = scaler.transform(X_test)"
   ]
  },
  {
   "cell_type": "markdown",
   "id": "881a21fd",
   "metadata": {},
   "source": [
    "##### Hyperparameter Tuning"
   ]
  },
  {
   "cell_type": "code",
   "execution_count": 39,
   "id": "77803dea",
   "metadata": {},
   "outputs": [],
   "source": [
    "from sklearn.ensemble import RandomForestClassifier\n",
    "from sklearn.metrics import  accuracy_score, precision_score, recall_score, f1_score, roc_auc_score, log_loss, classification_report, confusion_matrix, ConfusionMatrixDisplay\n",
    "from hyperopt import hp, fmin, tpe, Trials, STATUS_OK, space_eval"
   ]
  },
  {
   "cell_type": "code",
   "execution_count": 40,
   "id": "81a2d645",
   "metadata": {},
   "outputs": [],
   "source": [
    "space_rfc = {\n",
    "    'n_estimators': hp.uniformint('n_estimators', 100, 200, q=100),\n",
    "    'max_features': hp.choice('max_features', ['sqrt', 'log2']),\n",
    "    # 'min_samples_split': hp.uniformint('min_samples_split', 1, 10, q=3),\n",
    "    # 'min_samples_leaf': hp.uniformint('min_samples_leaf', 1, 6, q=1),\n",
    "    'criterion': hp.choice('criterion', ['gini', 'entropy']),\n",
    "\n",
    "    # Tweak later\n",
    "    # 'max_samples': hp.uniform('max_samples', 0.1, 1.0),\n",
    "    # 'bootstrap': hp.choice('bootstrap', [True, False]),\n",
    "    # 'class_weight': hp.choice('class_weight', [None, 'balanced']),\n",
    "    # 'oob_score': hp.choice('oob_score', [True, False]),\n",
    "    # 'warm_start': hp.choice('warm_start', [True, False]),\n",
    "    # 'ccp_alpha': hp.uniform('ccp_alpha', 0.0, 0.1),\n",
    "    # 'max_features': hp.uniform('max_features', 0.1, 1.0),\n",
    "    # 'max_leaf_nodes': hp.choice('max_leaf_nodes', [None, 10, 20, 30]),\n",
    "    # 'min_weight_fraction_leaf': hp.uniform('min_weight_fraction_leaf', 0.0, 0.5),\n",
    "    # 'min_impurity_decrease': hp.uniform('min_impurity_decrease', 0.0, 0.5),\n",
    "    # 'min_impurity_split': hp.uniform('min_impurity_split', 0.0, 0.5),\n",
    "    # 'n_jobs': hp.choice('n_jobs', [None, -1]),\n",
    "    # 'random_state': hp.choice('random_state', [None, 33]),\n",
    "    # 'verbose': hp.choice('verbose', [0, 1]),\n",
    "    # 'warm_start': hp.choice('warm_start', [True, False]),\n",
    "    # 'class_weight': hp.choice('class_weight', [None, 'balanced']),\n",
    "    # 'max_leaf_nodes': hp.choice('max_leaf_nodes', [None, 10, 20, 30]),\n",
    "    # 'min_impurity_decrease': hp.uniform('min_impurity_decrease', 0.0, 0.5),\n",
    "    # 'min_impurity_split': hp.uniform('min_impurity_split', 0.0, 0.5),\n",
    "    # 'max_depth': hp.choice('max_depth', [None, 10, 20, 30]),\n",
    "}"
   ]
  },
  {
   "cell_type": "code",
   "execution_count": 41,
   "id": "c705bef3",
   "metadata": {},
   "outputs": [],
   "source": [
    "def objective_rfc(space):\n",
    "    \"\"\"\n",
    "    Objective function for hyperparameter optimization of RandomForestClassifier.\n",
    "    \n",
    "    Parameters:\n",
    "    - space: Dictionary of hyperparameters\n",
    "    \n",
    "    Returns:\n",
    "    - Dictionary with loss, status, and hyperparameters\n",
    "    \"\"\"\n",
    "    \n",
    "    # Create a pipeline with the specified hyperparameters\n",
    "    clf = RandomForestClassifier(\n",
    "        n_estimators=int(space['n_estimators']),\n",
    "        max_features=space['max_features'],\n",
    "        # min_samples_split=int(space['min_samples_split']),\n",
    "        # min_samples_leaf=int(space['min_samples_leaf']),\n",
    "        criterion=space['criterion'],\n",
    "        random_state=random_seed,\n",
    "        # n_jobs=-1\n",
    "    )\n",
    "\n",
    "    # Fit the model\n",
    "    clf.fit(X_train_scaled, y_train)\n",
    "\n",
    "    # Make predictions\n",
    "    y_pred = clf.predict(X_test_scaled)\n",
    "    \n",
    "\n",
    "    loss = log_loss(y_test, y_pred)\n",
    "\n",
    "    # Return the loss and status\n",
    "    return {'loss': loss, 'status': STATUS_OK, 'model': clf}    "
   ]
  },
  {
   "cell_type": "code",
   "execution_count": 42,
   "id": "474760ff",
   "metadata": {},
   "outputs": [
    {
     "name": "stdout",
     "output_type": "stream",
     "text": [
      "100%|██████████| 10/10 [01:17<00:00,  7.78s/trial, best loss: 8.733377216183086]\n"
     ]
    }
   ],
   "source": [
    "#Run trials and minimize the objective function\n",
    "trials = Trials()\n",
    "\n",
    "smbo_res = fmin(fn=objective_rfc,\n",
    "                space=space_rfc,\n",
    "                algo=tpe.suggest,\n",
    "                max_evals=10,\n",
    "                trials=trials,\n",
    "                rstate=np.random.default_rng(random_seed)\n",
    ")"
   ]
  },
  {
   "cell_type": "code",
   "execution_count": 43,
   "id": "4805af68",
   "metadata": {},
   "outputs": [
    {
     "name": "stdout",
     "output_type": "stream",
     "text": [
      "Best loss: 8.733377216183086\n",
      "Best hyperparameters: {'criterion': 'entropy', 'max_features': 'log2', 'n_estimators': 165}\n"
     ]
    }
   ],
   "source": [
    "# Determine the best loss and hyperparameters\n",
    "\n",
    "losses = trials.losses()\n",
    "best_loss = min(losses)\n",
    "\n",
    "smbo_best = space_eval(space_rfc, smbo_res) #trials.argmin\n",
    "print(f\"Best loss: {best_loss}\") \n",
    "print(f\"Best hyperparameters: {smbo_best}\")   "
   ]
  },
  {
   "cell_type": "markdown",
   "id": "ae07b750",
   "metadata": {},
   "source": [
    "##### Rebuild the model"
   ]
  },
  {
   "cell_type": "code",
   "execution_count": 44,
   "id": "417f1646",
   "metadata": {},
   "outputs": [],
   "source": [
    "smbo_manual = {'criterion': 'entropy', 'max_features': 'log2', 'n_estimators': 165}"
   ]
  },
  {
   "cell_type": "code",
   "execution_count": 45,
   "metadata": {},
   "outputs": [
    {
     "data": {
      "text/plain": [
       "array([0.66060606, 0.65454545, 0.12727273, ..., 0.11515152, 0.35757576,\n",
       "       0.01212121])"
      ]
     },
     "execution_count": 45,
     "metadata": {},
     "output_type": "execute_result"
    }
   ],
   "source": [
    "from sklearn.pipeline import Pipeline\n",
    "\n",
    "pipe = Pipeline(steps = [\n",
    "    ('scaler', StandardScaler()),\n",
    "    ('rfc', RandomForestClassifier()) ])\n",
    "\n",
    "pipe.set_params(\n",
    "    rfc__n_estimators=smbo_best['n_estimators'],\n",
    "    rfc__max_features=smbo_best['max_features'],\n",
    "    rfc__criterion=smbo_best['criterion'],\n",
    "    # rfc__min_samples_split=smbo_best['min_samples_split'],\n",
    "    # rfc__min_samples_leaf=smbo_best['min_samples_leaf'],\n",
    "    # rfc__max_samples=smbo_best['max_samples'],\n",
    "    # rfc__bootstrap=smbo_best['bootstrap'],\n",
    "    # rfc__class_weight=smbo_best['class_weight'],\n",
    "    # rfc__oob_score=smbo_best['oob_score'],\n",
    "    # rfc__warm_start=smbo_best['warm_start'],\n",
    "    # rfc__ccp_alpha=smbo_best['ccp_alpha'],\n",
    ")\n",
    "\n",
    "pipe.fit(X_train, y_train)\n",
    "\n",
    "y_pred = pipe.predict(X_test)\n",
    "y_pred_proba = pipe.predict_proba(X_test)[:, 1]\n",
    "y_pred_proba"
   ]
  },
  {
   "cell_type": "code",
   "execution_count": 46,
   "id": "2dd51637",
   "metadata": {},
   "outputs": [
    {
     "name": "stdout",
     "output_type": "stream",
     "text": [
      "Class names: [True, False]\n"
     ]
    }
   ],
   "source": [
    "class_names = list(map_retention.keys())\n",
    "class_names = class_names[::-1 ]\n",
    "print(f\"Class names: {class_names}\")"
   ]
  },
  {
   "cell_type": "markdown",
   "id": "5444c660",
   "metadata": {},
   "source": [
    "#### Confusion Matrix  "
   ]
  },
  {
   "cell_type": "code",
   "execution_count": 48,
   "id": "ab9c7be1",
   "metadata": {},
   "outputs": [],
   "source": [
    "cnf_matrix = confusion_matrix(y_test, y_pred, labels=class_names)"
   ]
  },
  {
   "cell_type": "code",
   "execution_count": 49,
   "id": "910a9847",
   "metadata": {},
   "outputs": [
    {
     "data": {
      "image/png": "[encoded data removed]",
      "text/plain": [
       "<Figure size 640x480 with 2 Axes>"
      ]
     },
     "metadata": {},
     "output_type": "display_data"
    }
   ],
   "source": [
    "# DIsplay confusion matrix\n",
    "\n",
    "disp = ConfusionMatrixDisplay(confusion_matrix=cnf_matrix, display_labels=class_names)\n",
    "disp.plot(cmap=plt.cm.Blues, values_format='d')\n",
    "plt.title('Confusion Matrix')\n",
    "plt.show()\n"
   ]
  },
  {
   "cell_type": "code",
   "execution_count": 50,
   "id": "9483bf16",
   "metadata": {},
   "outputs": [
    {
     "data": {
      "image/png": "[encoded data removed]",
      "text/plain": [
       "<Figure size 640x480 with 2 Axes>"
      ]
     },
     "metadata": {},
     "output_type": "display_data"
    }
   ],
   "source": [
    "# Display Normalized confusion marix\n",
    "disp = ConfusionMatrixDisplay.from_predictions(y_test, y_pred, \n",
    "                                               display_labels=class_names, \n",
    "                                                normalize='true', \n",
    "                                                cmap=plt.cm.Blues, \n",
    "                                                values_format='.2f')\n",
    "plt.title('Confusion Matrix')\n",
    "plt.show()"
   ]
  },
  {
   "cell_type": "code",
   "execution_count": 51,
   "id": "a864a14c",
   "metadata": {},
   "outputs": [],
   "source": [
    "# Get metrics\n",
    "\n",
    "tn, fp, fn, tp = cnf_matrix.ravel()\n",
    "accuracy = accuracy_score(y_test, y_pred)\n",
    "f1 = f1_score(y_test, y_pred, average='weighted')\n",
    "loss = log_loss(y_test, y_pred)\n",
    "roc_auc = roc_auc_score(y_test, y_pred_proba)\n",
    "precision_val = precision_score(y_test.values, y_pred, average='weighted')\n",
    "recall_val = recall_score(y_test.values, y_pred, average='weighted')\n"
   ]
  },
  {
   "cell_type": "code",
   "execution_count": 52,
   "id": "a7ba94e3",
   "metadata": {},
   "outputs": [
    {
     "name": "stdout",
     "output_type": "stream",
     "text": [
      "Accuracy: 0.7577\n",
      "Precision: 0.7567\n",
      "Recall: 0.7577\n",
      "F1 Score: 0.7571\n",
      "Log Loss: 8.7334\n",
      "ROC AUC: 0.8230\n"
     ]
    }
   ],
   "source": [
    "# Print metrics\n",
    "print(f\"Accuracy: {accuracy:.4f}\")\n",
    "print(f\"Precision: {precision_val:.4f}\")\n",
    "print(f\"Recall: {recall_val:.4f}\")\n",
    "print(f\"F1 Score: {f1:.4f}\")\n",
    "print(f\"Log Loss: {loss:.4f}\")\n",
    "print(f\"ROC AUC: {roc_auc:.4f}\")"
   ]
  },
  {
   "cell_type": "markdown",
   "id": "53c56dc0",
   "metadata": {},
   "source": [
    "##### Show Feature Importance"
   ]
  },
  {
   "cell_type": "code",
   "execution_count": 53,
   "id": "83c7e4db",
   "metadata": {},
   "outputs": [
    {
     "name": "stdout",
     "output_type": "stream",
     "text": [
      "11\n"
     ]
    },
    {
     "data": {
      "image/png": "[encoded data removed]",
      "text/plain": [
       "<Figure size 1000x500 with 1 Axes>"
      ]
     },
     "metadata": {},
     "output_type": "display_data"
    }
   ],
   "source": [
    "# Make importances relative to max importance\n",
    "\n",
    "feature_importance = pipe.named_steps['rfc'].feature_importances_\n",
    "feature_importance = 100.0 * (feature_importance / feature_importance.max())[:30]\n",
    "sorted_idx = np.argsort(feature_importance)[:30]\n",
    "\n",
    "pos = np.arange(sorted_idx.shape[0]) + .5\n",
    "print(pos.size)\n",
    "sorted_idx.size\n",
    "plt.figure(figsize=(10,5))\n",
    "plt.barh(pos, feature_importance[sorted_idx], align='center')\n",
    "plt.yticks(pos, X.columns[sorted_idx])\n",
    "plt.xlabel('Relative Importance')\n",
    "plt.title('Feature Importance')\n",
    "plt.show()\n"
   ]
  }
 ],
 "metadata": {
  "kernelspec": {
   "display_name": "base",
   "language": "python",
   "name": "python3"
  },
  "language_info": {
   "codemirror_mode": {
    "name": "ipython",
    "version": 3
   },
   "file_extension": ".py",
   "mimetype": "text/x-python",
   "name": "python",
   "nbconvert_exporter": "python",
   "pygments_lexer": "ipython3",
   "version": "3.12.4"
  }
 },
 "nbformat": 4,
 "nbformat_minor": 5
}
